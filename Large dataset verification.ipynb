{
 "cells": [
  {
   "cell_type": "code",
   "execution_count": 1,
   "id": "06e15f31-8943-462d-b097-2bfd3fccc964",
   "metadata": {},
   "outputs": [],
   "source": [
    "import pandas as pd\n",
    "import joblib"
   ]
  },
  {
   "cell_type": "code",
   "execution_count": 2,
   "id": "b40fc672-bf1a-4f92-a00d-3e2d64a7a8e0",
   "metadata": {},
   "outputs": [],
   "source": [
    "# Load model trained on old body_data.csv\n",
    "model = joblib.load(\"body_type_model.pkl\")"
   ]
  },
  {
   "cell_type": "code",
   "execution_count": 3,
   "id": "6cdc62f1-95a9-464d-a599-4c5ff2af7cf6",
   "metadata": {},
   "outputs": [],
   "source": [
    "# Load new test data\n",
    "test_data = pd.read_csv(\"test_data.csv\")"
   ]
  },
  {
   "cell_type": "code",
   "execution_count": 4,
   "id": "3e623fdb-2bfa-491c-acf4-e4aaffb439fd",
   "metadata": {},
   "outputs": [],
   "source": [
    "# Predict body type\n",
    "predictions = model.predict(test_data)"
   ]
  },
  {
   "cell_type": "code",
   "execution_count": 5,
   "id": "16e34e39-c7b7-4a70-82d4-05981e3d2ff6",
   "metadata": {},
   "outputs": [],
   "source": [
    "# Add predictions to the DataFrame\n",
    "test_data[\"Predicted_Body_Type\"] = predictions"
   ]
  },
  {
   "cell_type": "code",
   "execution_count": 6,
   "id": "caf9bfc3-b542-4d23-ba78-c56787231ec5",
   "metadata": {},
   "outputs": [
    {
     "name": "stdout",
     "output_type": "stream",
     "text": [
      "   shoulder_width  hip_width  leg_length  arm_length Predicted_Body_Type\n",
      "0            0.55       0.40        1.05        0.90   Inverted Triangle\n",
      "1            0.50       0.50        1.10        0.95           Rectangle\n",
      "2            0.45       0.55        1.15        0.85                Pear\n",
      "3            0.60       0.42        1.00        0.88   Inverted Triangle\n",
      "4            0.48       0.48        1.08        0.92           Rectangle\n",
      "5            0.43       0.60        1.12        0.80                Pear\n"
     ]
    }
   ],
   "source": [
    "# Show or save the output\n",
    "print(test_data)\n",
    "test_data.to_csv(\"predicted_body_types.csv\", index=False)"
   ]
  },
  {
   "cell_type": "code",
   "execution_count": 7,
   "id": "eb74cb9b-fc21-41ff-b71d-a770c7b599e9",
   "metadata": {},
   "outputs": [],
   "source": [
    "# Simple example\n",
    "recommendations = {\n",
    "    \"Inverted Triangle\": [\"Squats\", \"Lunges\", \"Deadlifts\"],\n",
    "    \"Pear\": [\"Push-ups\", \"Shoulder Press\", \"Planks\"],\n",
    "    \"Rectangle\": [\"Burpees\", \"Mountain Climbers\", \"Jumping Jacks\"]\n",
    "}"
   ]
  },
  {
   "cell_type": "code",
   "execution_count": 8,
   "id": "4811a2ae-17d5-45aa-a6c8-295b8fc23160",
   "metadata": {},
   "outputs": [
    {
     "name": "stdout",
     "output_type": "stream",
     "text": [
      "\n",
      "🧍 Person 1: Inverted Triangle\n",
      "🏋️ Recommended Exercises:\n",
      " - Squats\n",
      " - Lunges\n",
      " - Deadlifts\n",
      "\n",
      "🧍 Person 2: Rectangle\n",
      "🏋️ Recommended Exercises:\n",
      " - Burpees\n",
      " - Mountain Climbers\n",
      " - Jumping Jacks\n",
      "\n",
      "🧍 Person 3: Pear\n",
      "🏋️ Recommended Exercises:\n",
      " - Push-ups\n",
      " - Shoulder Press\n",
      " - Planks\n",
      "\n",
      "🧍 Person 4: Inverted Triangle\n",
      "🏋️ Recommended Exercises:\n",
      " - Squats\n",
      " - Lunges\n",
      " - Deadlifts\n",
      "\n",
      "🧍 Person 5: Rectangle\n",
      "🏋️ Recommended Exercises:\n",
      " - Burpees\n",
      " - Mountain Climbers\n",
      " - Jumping Jacks\n",
      "\n",
      "🧍 Person 6: Pear\n",
      "🏋️ Recommended Exercises:\n",
      " - Push-ups\n",
      " - Shoulder Press\n",
      " - Planks\n"
     ]
    }
   ],
   "source": [
    "for i, row in test_data.iterrows():\n",
    "    body_type = row['Predicted_Body_Type']\n",
    "    print(f\"\\n🧍 Person {i+1}: {body_type}\")\n",
    "    print(\"🏋️ Recommended Exercises:\")\n",
    "    for ex in recommendations.get(body_type, [\"No suggestions available\"]):\n",
    "        print(f\" - {ex}\")"
   ]
  },
  {
   "cell_type": "code",
   "execution_count": null,
   "id": "b6c5fa70-3aad-42ac-a01c-b286bd5bb527",
   "metadata": {},
   "outputs": [],
   "source": []
  }
 ],
 "metadata": {
  "kernelspec": {
   "display_name": "Python 3 (ipykernel)",
   "language": "python",
   "name": "python3"
  },
  "language_info": {
   "codemirror_mode": {
    "name": "ipython",
    "version": 3
   },
   "file_extension": ".py",
   "mimetype": "text/x-python",
   "name": "python",
   "nbconvert_exporter": "python",
   "pygments_lexer": "ipython3",
   "version": "3.11.11"
  }
 },
 "nbformat": 4,
 "nbformat_minor": 5
}
