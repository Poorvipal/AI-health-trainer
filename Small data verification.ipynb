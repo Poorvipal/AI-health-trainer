{
 "cells": [
  {
   "cell_type": "code",
   "execution_count": 4,
   "id": "3e4d46c0-b1b6-41eb-913a-70e49ba27d37",
   "metadata": {},
   "outputs": [],
   "source": [
    "import numpy as np\n",
    "import mediapipe as mp"
   ]
  },
  {
   "cell_type": "code",
   "execution_count": 5,
   "id": "cb06146d-629f-45e1-93ea-c296f663aa93",
   "metadata": {},
   "outputs": [],
   "source": [
    "# Initialize MediaPipe pose estimation\n",
    "mp_pose = mp.solutions.pose\n",
    "pose = mp_pose.Pose()"
   ]
  },
  {
   "cell_type": "code",
   "execution_count": 6,
   "id": "85e44759-9c18-4cc2-8e00-3e4c2bb499e6",
   "metadata": {},
   "outputs": [],
   "source": [
    "landmarks = [\n",
    "    {\"x\": 0.5, \"y\": 0.5},  # Example: Shoulder Left\n",
    "    {\"x\": 0.6, \"y\": 0.5},  # Example: Shoulder Right\n",
    "    {\"x\": 0.5, \"y\": 0.7},  # Example: Hip Left\n",
    "    {\"x\": 0.6, \"y\": 0.7},  # Example: Hip Right\n",
    "    {\"x\": 0.4, \"y\": 0.8},  # Example: Ankle Left\n",
    "    {\"x\": 0.7, \"y\": 0.8},  # Example: Ankle Right\n",
    "    {\"x\": 0.4, \"y\": 0.4},  # Example: Elbow Left\n",
    "    {\"x\": 0.7, \"y\": 0.4},  # Example: Elbow Right\n",
    "]"
   ]
  },
  {
   "cell_type": "code",
   "execution_count": 7,
   "id": "84caca24-38c0-417f-ad17-d5ce7f339ecc",
   "metadata": {},
   "outputs": [],
   "source": [
    "# Calculate the feature values (distances between landmarks)\n",
    "shoulder_width = np.linalg.norm([landmarks[0]['x'] - landmarks[1]['x'], landmarks[0]['y'] - landmarks[1]['y']])\n",
    "hip_width = np.linalg.norm([landmarks[2]['x'] - landmarks[3]['x'], landmarks[2]['y'] - landmarks[3]['y']])\n",
    "leg_length = np.linalg.norm([landmarks[4]['x'] - landmarks[2]['x'], landmarks[4]['y'] - landmarks[2]['y']])\n",
    "arm_length = np.linalg.norm([landmarks[6]['x'] - landmarks[4]['x'], landmarks[6]['y'] - landmarks[4]['y']])"
   ]
  },
  {
   "cell_type": "code",
   "execution_count": 8,
   "id": "bc788916-52e4-4d98-ac01-f3db0176b505",
   "metadata": {},
   "outputs": [],
   "source": [
    "features = np.array([[shoulder_width, hip_width, leg_length, arm_length]])"
   ]
  },
  {
   "cell_type": "code",
   "execution_count": 9,
   "id": "278d0796-3cb1-4a9d-9f9c-733b220eb40e",
   "metadata": {},
   "outputs": [
    {
     "name": "stdout",
     "output_type": "stream",
     "text": [
      "Features:  [[0.1        0.1        0.14142136 0.4       ]]\n"
     ]
    }
   ],
   "source": [
    "# Print the features for verification\n",
    "print(\"Features: \", features)"
   ]
  },
  {
   "cell_type": "code",
   "execution_count": 10,
   "id": "979f7bae-bf6f-4046-a2cc-1e90cf0699b4",
   "metadata": {},
   "outputs": [],
   "source": [
    "# Now load your trained model\n",
    "import joblib\n",
    "model = joblib.load(\"body_type_model.pkl\")"
   ]
  },
  {
   "cell_type": "code",
   "execution_count": 11,
   "id": "e42e39e2-9428-451d-a643-f80f3f3ee11f",
   "metadata": {},
   "outputs": [
    {
     "name": "stderr",
     "output_type": "stream",
     "text": [
      "C:\\Users\\poorv\\anaconda3\\envs\\ai_fitness\\Lib\\site-packages\\sklearn\\utils\\validation.py:2739: UserWarning: X does not have valid feature names, but RandomForestClassifier was fitted with feature names\n",
      "  warnings.warn(\n"
     ]
    }
   ],
   "source": [
    "# Predict body type\n",
    "predicted_body_type = model.predict(features)[0]"
   ]
  },
  {
   "cell_type": "code",
   "execution_count": 12,
   "id": "19903797-c0dc-46f5-82e7-1a1ea88cd86c",
   "metadata": {},
   "outputs": [
    {
     "name": "stdout",
     "output_type": "stream",
     "text": [
      "\n",
      "🧍 Predicted Body Type: Inverted Triangle\n"
     ]
    }
   ],
   "source": [
    "# Print the predicted body type\n",
    "print(f\"\\n🧍 Predicted Body Type: {predicted_body_type}\")"
   ]
  },
  {
   "cell_type": "code",
   "execution_count": 13,
   "id": "009cfe96-558d-418d-9167-ccd55824cd09",
   "metadata": {},
   "outputs": [],
   "source": [
    "# Recommend exercises based on predicted type\n",
    "recommendations = {\n",
    "    \"Inverted Triangle\": [\"Squats\", \"Lunges\", \"Deadlifts\"],\n",
    "    \"Pear\": [\"Push-ups\", \"Shoulder Press\", \"Planks\"],\n",
    "    \"Rectangle\": [\"Burpees\", \"Mountain Climbers\", \"Jumping Jacks\"]\n",
    "}"
   ]
  },
  {
   "cell_type": "code",
   "execution_count": 14,
   "id": "a110fc2e-78a4-4e5e-9c29-bbcf93ea1949",
   "metadata": {},
   "outputs": [
    {
     "name": "stdout",
     "output_type": "stream",
     "text": [
      "🏋️ Recommended Exercises:\n",
      " - Squats\n",
      " - Lunges\n",
      " - Deadlifts\n"
     ]
    }
   ],
   "source": [
    "print(\"🏋️ Recommended Exercises:\")\n",
    "for ex in recommendations.get(predicted_body_type, [\"No suggestions available\"]):\n",
    "    print(f\" - {ex}\")"
   ]
  },
  {
   "cell_type": "code",
   "execution_count": null,
   "id": "ee17f68e-5146-4f82-9a05-b0e288aa4c21",
   "metadata": {},
   "outputs": [],
   "source": []
  }
 ],
 "metadata": {
  "kernelspec": {
   "display_name": "Python 3 (ipykernel)",
   "language": "python",
   "name": "python3"
  },
  "language_info": {
   "codemirror_mode": {
    "name": "ipython",
    "version": 3
   },
   "file_extension": ".py",
   "mimetype": "text/x-python",
   "name": "python",
   "nbconvert_exporter": "python",
   "pygments_lexer": "ipython3",
   "version": "3.11.11"
  }
 },
 "nbformat": 4,
 "nbformat_minor": 5
}
